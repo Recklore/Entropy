{
 "cells": [
  {
   "cell_type": "code",
   "execution_count": 1,
   "id": "e52a7364",
   "metadata": {
    "ExecuteTime": {
     "end_time": "2025-08-22T06:35:58.976935Z",
     "start_time": "2025-08-22T06:34:59.148701Z"
    }
   },
   "outputs": [],
   "source": [
    "import pandas as pd\n",
    "import random\n",
    "import ast\n",
    "import json\n",
    "import torch\n",
    "from sentence_transformers import SentenceTransformer, util"
   ]
  },
  {
   "cell_type": "code",
   "execution_count": null,
   "id": "68b1eac2",
   "metadata": {},
   "outputs": [],
   "source": [
    "# ASSISTments data variables\n",
    "RAW_DATA_PATH = \"../data/ASSISTments/ASSISTments_2017.csv\"\n",
    "ASSISTMENTs_SKILL_PATH = \"../data/ASSISTments/ASSISTments_skills.csv\"\n",
    "SKILL_MAPPED_DATA_PATH = \"../data/ASSISTments/ASSISTments_skill_mapped_data.csv\"\n",
    "PROCESSED_DATA_PATH = \"../data/ASSISTments/ASSISTments_processed_data.json\"\n",
    "\n",
    "# SL data variables\n",
    "SL_SKILL_PATH = \"../data/SL/sl_skills.csv\"\n",
    "SKILL_MAP_PATH = \"../data/SL/skill_map.csv\"\n",
    "\n",
    "# pytorch/ml variables\n",
    "DEVICE = torch.device(\"cuda\" if torch.cuda.is_available() else \"cpu\")\n",
    "\n",
    "SKILL_EMBEDDING_MODEL = \"all-MiniLM-L6-v2\""
   ]
  },
  {
   "cell_type": "code",
   "execution_count": 3,
   "id": "256e3203",
   "metadata": {},
   "outputs": [],
   "source": [
    "assistments_data_whole = pd.read_csv(RAW_DATA_PATH)"
   ]
  },
  {
   "cell_type": "code",
   "execution_count": 4,
   "id": "158b8bbd",
   "metadata": {},
   "outputs": [],
   "source": [
    "pd.set_option(\"display.max_columns\", None)\n",
    "pd.set_option(\"display.max_rows\", None)"
   ]
  },
  {
   "cell_type": "code",
   "execution_count": 5,
   "id": "cdd3955c",
   "metadata": {},
   "outputs": [
    {
     "name": "stdout",
     "output_type": "stream",
     "text": [
      "6123270\n",
      "Index(['problem_log_id', 'skill', 'problem_id', 'user_id', 'assignment_id',\n",
      "       'assistment_id', 'start_time', 'end_time', 'problem_type', 'original',\n",
      "       'correct', 'bottom_hint', 'hint_count', 'actions', 'attempt_count',\n",
      "       'ms_first_response', 'tutor_mode', 'sequence_id', 'student_class_id',\n",
      "       'position', 'type', 'base_sequence_id', 'skill_id', 'teacher_id',\n",
      "       'school_id', 'overlap_time', 'template_id', 'answer_id', 'answer_text',\n",
      "       'first_action', 'problemlogid', 'Average_confidence(FRUSTRATED)',\n",
      "       'Average_confidence(CONFUSED)', 'Average_confidence(CONCENTRATING)',\n",
      "       'Average_confidence(BORED)'],\n",
      "      dtype='object')\n",
      "   problem_log_id                                 skill  problem_id  user_id  \\\n",
      "0       137792159                                   NaN      557460    61394   \n",
      "1       138083797                              Rounding      365981    61394   \n",
      "2       142332619  Multiplication and Division Integers      426415    61394   \n",
      "3       145939397                            Proportion       86686    61394   \n",
      "4       137111284                                   NaN      399669    76592   \n",
      "\n",
      "   assignment_id  assistment_id           start_time                 end_time  \\\n",
      "0         565736         341511  2012-09-28 15:11:27  2012-09-28 15:11:36.856   \n",
      "1         573819         204043  2012-10-09 11:01:52  2012-10-09 11:02:13.182   \n",
      "2         734130         247525  2013-03-07 10:53:20  2013-03-07 10:53:28.661   \n",
      "3         821352          48081  2013-08-20 19:54:56  2013-08-20 19:55:21.753   \n",
      "4         557216         227869  2012-09-10 17:20:10  2012-09-10 17:24:56.579   \n",
      "\n",
      "  problem_type  original  correct  bottom_hint  hint_count  \\\n",
      "0     choose_1         1      1.0          0.0           0   \n",
      "1      algebra         1      1.0          0.0           0   \n",
      "2      algebra         1      0.0          0.0           0   \n",
      "3      algebra         1      1.0          0.0           0   \n",
      "4     choose_1         1      1.0          0.0           0   \n",
      "\n",
      "                                             actions  attempt_count  \\\n",
      "0  --- \\n- - start\\n  - 1348859487561\\n  - \"95952...              1   \n",
      "1  --- \\n- - start\\n  - 1349794912269\\n  - \"62459...              1   \n",
      "2  --- \\n- - start\\n  - 1362671600405\\n  - \"74107...              1   \n",
      "3  --- \\n- - start\\n  - 1377042896503\\n  - \"73630...              1   \n",
      "4  --- \\n- - start\\n  - 1347312010563\\n  - \"69479...              1   \n",
      "\n",
      "   ms_first_response tutor_mode  sequence_id  student_class_id  position  \\\n",
      "0               9852      tutor        55482             23643         4   \n",
      "1              21175      tutor        34221             22967         5   \n",
      "2               8645      tutor        39601             22967        58   \n",
      "3              25728      tutor         6912             26303        21   \n",
      "4             286578      tutor        37143             21696         3   \n",
      "\n",
      "             type  base_sequence_id  skill_id  teacher_id  school_id  \\\n",
      "0   LinearSection             55482       NaN       53472     5048.0   \n",
      "1   LinearSection             34221      54.0       47424     5048.0   \n",
      "2   LinearSection             39601     279.0       47424     5048.0   \n",
      "3  MasterySection              6912      79.0       47424     5048.0   \n",
      "4   LinearSection             37143       NaN      152676     7561.0   \n",
      "\n",
      "   overlap_time  template_id  answer_id         answer_text  first_action  \\\n",
      "0          9852       341511        NaN                 she             0   \n",
      "1         21175       204043        NaN               74.29             0   \n",
      "2          8645       247525        NaN                  00             0   \n",
      "3         25728        46362        NaN                 3.8             0   \n",
      "4        286578       227869        NaN  C (wr - 1)(wr + 1)             0   \n",
      "\n",
      "   problemlogid  Average_confidence(FRUSTRATED)  Average_confidence(CONFUSED)  \\\n",
      "0     137792159                        0.361323                           0.0   \n",
      "1     138083797                        0.361323                           0.0   \n",
      "2     142332619                        0.361323                           0.0   \n",
      "3     145939397                        0.775000                           0.0   \n",
      "4     137111284                        0.361323                           0.0   \n",
      "\n",
      "   Average_confidence(CONCENTRATING)  Average_confidence(BORED)  \n",
      "0                           0.336529                   0.000000  \n",
      "1                           0.766925                   0.000000  \n",
      "2                           0.766925                   0.442968  \n",
      "3                           0.766925                   0.912281  \n",
      "4                           0.766925                   0.000000  \n"
     ]
    }
   ],
   "source": [
    "print(len(assistments_data_whole))\n",
    "print(assistments_data_whole.columns)\n",
    "print(assistments_data_whole.head())"
   ]
  },
  {
   "cell_type": "code",
   "execution_count": 37,
   "id": "26c51755",
   "metadata": {},
   "outputs": [],
   "source": [
    "assistments_data_whole[\"start_time\"] = pd.to_datetime(assistments_data_whole[\"start_time\"], format = \"mixed\")\n",
    "assistments_data_whole[\"end_time\"] = pd.to_datetime(assistments_data_whole[\"end_time\"], format = \"mixed\")\n",
    "\n",
    "assistments_data_whole[\"time_taken\"] = (assistments_data_whole[\"end_time\"] - assistments_data_whole[\"start_time\"]).dt.total_seconds()"
   ]
  },
  {
   "cell_type": "code",
   "execution_count": 38,
   "id": "c3a73dc9",
   "metadata": {},
   "outputs": [],
   "source": [
    "assistments_data = assistments_data_whole[[\n",
    "    \"user_id\",\n",
    "    \"skill_id\",\n",
    "    \"correct\",\n",
    "    \"problem_type\",\n",
    "    \"start_time\",\n",
    "    \"time_taken\",\n",
    "    \"skill\"\n",
    "    ]]"
   ]
  },
  {
   "cell_type": "code",
   "execution_count": 39,
   "id": "59c26357",
   "metadata": {},
   "outputs": [
    {
     "name": "stdout",
     "output_type": "stream",
     "text": [
      "user_id               0\n",
      "skill_id        3411457\n",
      "correct               0\n",
      "problem_type          0\n",
      "start_time            0\n",
      "time_taken            0\n",
      "skill           3493190\n",
      "dtype: int64\n",
      "user_id                  int64\n",
      "skill_id               float64\n",
      "correct                float64\n",
      "problem_type            object\n",
      "start_time      datetime64[ns]\n",
      "time_taken             float64\n",
      "skill                   object\n",
      "dtype: object\n",
      "   user_id  skill_id  correct problem_type          start_time  time_taken  \\\n",
      "0    61394       NaN      1.0     choose_1 2012-09-28 15:11:27       9.856   \n",
      "1    61394      54.0      1.0      algebra 2012-10-09 11:01:52      21.182   \n",
      "2    61394     279.0      0.0      algebra 2013-03-07 10:53:20       8.661   \n",
      "3    61394      79.0      1.0      algebra 2013-08-20 19:54:56      25.753   \n",
      "4    76592       NaN      1.0     choose_1 2012-09-10 17:20:10     286.579   \n",
      "\n",
      "                                  skill  \n",
      "0                                   NaN  \n",
      "1                              Rounding  \n",
      "2  Multiplication and Division Integers  \n",
      "3                            Proportion  \n",
      "4                                   NaN  \n"
     ]
    }
   ],
   "source": [
    "print(assistments_data.isnull().sum())\n",
    "print(assistments_data.dtypes)\n",
    "print(assistments_data.head())"
   ]
  },
  {
   "cell_type": "code",
   "execution_count": 40,
   "id": "ee1cbc47",
   "metadata": {},
   "outputs": [
    {
     "data": {
      "text/plain": [
       "problem_type\n",
       "algebra          1507058\n",
       "choose_1         1492952\n",
       "fill_in_1         384537\n",
       "open_response      16869\n",
       "choose_n            8556\n",
       "rank                1485\n",
       "Name: count, dtype: int64"
      ]
     },
     "execution_count": 40,
     "metadata": {},
     "output_type": "execute_result"
    }
   ],
   "source": [
    "assistments_data[assistments_data['skill_id'].isnull()]['problem_type'].value_counts()"
   ]
  },
  {
   "cell_type": "code",
   "execution_count": 41,
   "id": "783bcb2e",
   "metadata": {},
   "outputs": [
    {
     "name": "stdout",
     "output_type": "stream",
     "text": [
      "2630080\n"
     ]
    }
   ],
   "source": [
    "'''\n",
    "The null values in the data are because the Worcester Polytechnic Institute did not map every question\n",
    " to a skill initaily and they are left that way, and now we are left with the only practical option \n",
    " of dropping the null rows as we cannot assign skills untill unless we question texts.\n",
    "'''\n",
    "\n",
    "assistments_data = assistments_data.dropna()\n",
    "\n",
    "print(len(assistments_data))"
   ]
  },
  {
   "cell_type": "code",
   "execution_count": 42,
   "id": "a753a681",
   "metadata": {},
   "outputs": [],
   "source": [
    "assistments_data[\"user_id\"] = pd.factorize(assistments_data[\"user_id\"])[0]\n",
    "assistments_data[\"skill_id\"] = pd.factorize(assistments_data[\"skill\"])[0]"
   ]
  },
  {
   "cell_type": "code",
   "execution_count": 43,
   "id": "3a527baa",
   "metadata": {},
   "outputs": [],
   "source": [
    "assistments_skills = pd.Series(assistments_data[\"skill\"].unique())\n",
    "assistments_skills.name = \"skill_name\"\n",
    "\n",
    "assistments_skills.to_csv(ASSISTMENTs_SKILL_PATH, index = False)"
   ]
  },
  {
   "cell_type": "code",
   "execution_count": 44,
   "id": "eec6a971",
   "metadata": {},
   "outputs": [],
   "source": [
    "sl_skills = pd.read_csv(SL_SKILL_PATH).squeeze().tolist()\n",
    "assistments_skills = pd.read_csv(ASSISTMENTs_SKILL_PATH).squeeze().tolist()"
   ]
  },
  {
   "cell_type": "code",
   "execution_count": 45,
   "id": "1577f719",
   "metadata": {},
   "outputs": [],
   "source": [
    "skill_embedding_model = SentenceTransformer(SKILL_EMBEDDING_MODEL)\n",
    "\n",
    "assistments_skill_embeddings = skill_embedding_model.encode(assistments_skills, convert_to_tensor = True, device = DEVICE)\n",
    "sl_skill_embeddings = skill_embedding_model.encode(sl_skills, convert_to_tensor = True, device = DEVICE)\n",
    "\n",
    "cosine_scores = util.pytorch_cos_sim(assistments_skill_embeddings, sl_skill_embeddings)"
   ]
  },
  {
   "cell_type": "code",
   "execution_count": 46,
   "id": "d35174f5",
   "metadata": {},
   "outputs": [],
   "source": [
    "# skill mapping (assistment to sl and vice versa for unmapped skills)\n",
    "\n",
    "mapping_result = []\n",
    "\n",
    "for i, skill in enumerate(assistments_skills):\n",
    "\n",
    "    best_match = torch.argmax(cosine_scores[i])\n",
    "    best_score = cosine_scores[i][best_match].item()\n",
    "\n",
    "    result = {\n",
    "        \"assistments_skill\" : skill,\n",
    "        \"sl_skill\" : [\n",
    "            {\n",
    "                \"skill\" : sl_skills[best_match.item()],\n",
    "                \"cosine_score\" : best_score\n",
    "            }\n",
    "        ]\n",
    "    }\n",
    "\n",
    "    mapping_result.append(result)\n",
    "\n",
    "mapping_result = pd.DataFrame(mapping_result)\n",
    "\n",
    "\n",
    "# Mapping in reverse for unmapped sl skills\n",
    "\n",
    "unmapped_sl_skills = list(set(sl_skills) - set(mapping_result[\"sl_skill\"].apply(lambda x: x[0][\"skill\"]).unique()))\n",
    "umapped_sl_skill_embeddings = skill_embedding_model.encode(unmapped_sl_skills, convert_to_tensor = True, device = DEVICE)\n",
    "\n",
    "reversed_cosine_scores = util.pytorch_cos_sim(umapped_sl_skill_embeddings, assistments_skill_embeddings)\n",
    "\n",
    "targeted_mapping_result = []\n",
    "\n",
    "for i, skill in enumerate(unmapped_sl_skills):\n",
    "\n",
    "    best_match = torch.argmax(reversed_cosine_scores[i])\n",
    "    best_score = reversed_cosine_scores[i][best_match].item()\n",
    "\n",
    "    result = {\n",
    "        \"assistments_skill\" : assistments_skills[best_match],\n",
    "        \"sl_skill\" : [\n",
    "            {\n",
    "                \"skill\" : skill,\n",
    "                \"cosine_score\" : best_score\n",
    "            }\n",
    "        ]\n",
    "    }\n",
    "\n",
    "    targeted_mapping_result.append(result)\n",
    "\n",
    "targeted_mapping_result = pd.DataFrame(targeted_mapping_result)\n",
    "\n",
    "\n",
    "combined = pd.concat([mapping_result, targeted_mapping_result], ignore_index=True)\n",
    "\n",
    "final_mapping = combined.groupby(\"assistments_skill\", as_index=False).agg({\"sl_skill\": lambda x: sum(x, [])})"
   ]
  },
  {
   "cell_type": "code",
   "execution_count": 47,
   "id": "1dfbc3a7",
   "metadata": {},
   "outputs": [],
   "source": [
    "final_mapping.to_csv(SKILL_MAP_PATH)\n"
   ]
  },
  {
   "cell_type": "code",
   "execution_count": 8,
   "id": "606521d9",
   "metadata": {},
   "outputs": [],
   "source": [
    "final_mapping = pd.read_csv(SKILL_MAP_PATH)\n",
    "final_mapping['sl_skill'] = final_mapping['sl_skill'].apply(ast.literal_eval)\n",
    "skill_map_dict = final_mapping.set_index('assistments_skill').to_dict(orient='index')"
   ]
  },
  {
   "cell_type": "code",
   "execution_count": 9,
   "id": "823e18a0",
   "metadata": {},
   "outputs": [],
   "source": [
    "\n",
    "def probabilistic_skill_map(original_skill):\n",
    "\n",
    "    row = skill_map_dict.get(original_skill)\n",
    "\n",
    "    if row is None:\n",
    "        return original_skill\n",
    "    \n",
    "    matches = row.get(\"sl_skill\", [])\n",
    "    if not matches:\n",
    "        return original_skill\n",
    "\n",
    "    if len(matches) == 1:\n",
    "        return matches[0][\"skill\"]\n",
    "    else:\n",
    "        skills = [m[\"skill\"] for m in matches]\n",
    "        weights = [m[\"cosine_score\"] for m in matches]\n",
    "\n",
    "        return random.choices(skills, weights = weights)[0]\n"
   ]
  },
  {
   "cell_type": "code",
   "execution_count": 10,
   "id": "f0499bb4",
   "metadata": {},
   "outputs": [],
   "source": [
    "assistments_data[\"skill\"] = assistments_data[\"skill\"].apply(probabilistic_skill_map)\n",
    "assistments_data[\"skill_id\"] = pd.factorize(assistments_data[\"skill\"])[0] + 1"
   ]
  },
  {
   "cell_type": "code",
   "execution_count": 11,
   "id": "6cc1886a",
   "metadata": {},
   "outputs": [
    {
     "name": "stdout",
     "output_type": "stream",
     "text": [
      "44\n"
     ]
    }
   ],
   "source": [
    "print(assistments_data[\"skill\"].nunique())"
   ]
  },
  {
   "cell_type": "code",
   "execution_count": 12,
   "id": "fc870ae0",
   "metadata": {},
   "outputs": [],
   "source": [
    "assistments_data.to_csv(SKILL_MAPPED_DATA_PATH)"
   ]
  },
  {
   "cell_type": "code",
   "execution_count": 13,
   "id": "6621e869",
   "metadata": {},
   "outputs": [],
   "source": [
    "assistments_data = pd.read_csv(SKILL_MAPPED_DATA_PATH)"
   ]
  },
  {
   "cell_type": "code",
   "execution_count": 6,
   "id": "a15994bc",
   "metadata": {},
   "outputs": [
    {
     "data": {
      "text/plain": [
       "44"
      ]
     },
     "execution_count": 6,
     "metadata": {},
     "output_type": "execute_result"
    }
   ],
   "source": [
    "assistments_data[\"skill_id\"].nunique()"
   ]
  },
  {
   "cell_type": "code",
   "execution_count": 14,
   "id": "a253f28c",
   "metadata": {},
   "outputs": [
    {
     "data": {
      "text/plain": [
       "array([ 1,  2,  3,  4,  5,  6,  7,  8,  9, 10, 11, 12, 13, 14, 15, 16, 17,\n",
       "       18, 19, 20, 21, 22, 23, 24, 25, 26, 27, 28, 29, 30, 31, 32, 33, 34,\n",
       "       35, 36, 37, 38, 39, 40, 41, 42, 43, 44])"
      ]
     },
     "execution_count": 14,
     "metadata": {},
     "output_type": "execute_result"
    }
   ],
   "source": [
    "assistments_data[\"skill_id\"].unique()"
   ]
  },
  {
   "cell_type": "code",
   "execution_count": 56,
   "id": "8eee8f1d",
   "metadata": {},
   "outputs": [],
   "source": [
    "assistments_data.sort_values(by = [\"user_id\", \"start_time\"], inplace = True)\n",
    "assistments_data[\"time_taken\"] = assistments_data[\"time_taken\"].clip(lower = 0, upper = 600)\n",
    "\n",
    "grouped_by_user_id = assistments_data.groupby(\"user_id\")\n",
    "\n",
    "t_sequences = [user_data['time_taken'].tolist() for _, user_data in grouped_by_user_id]\n",
    "q_sequences = [user_data['skill_id'].tolist() for _, user_data in grouped_by_user_id]\n",
    "r_sequences = [user_data['correct'].tolist() for _, user_data in grouped_by_user_id]"
   ]
  },
  {
   "cell_type": "code",
   "execution_count": 60,
   "id": "b7329c20",
   "metadata": {},
   "outputs": [],
   "source": [
    "processed_data = {\n",
    "    \"t_sequences\" : t_sequences,\n",
    "    \"q_sequences\" : q_sequences,\n",
    "    \"r_sequences\" : r_sequences\n",
    "}\n",
    "\n",
    "with open(PROCESSED_DATA_PATH, 'w') as f:\n",
    "    json.dump(processed_data, f)"
   ]
  }
 ],
 "metadata": {
  "kernelspec": {
   "display_name": "myenv",
   "language": "python",
   "name": "python3"
  },
  "language_info": {
   "codemirror_mode": {
    "name": "ipython",
    "version": 3
   },
   "file_extension": ".py",
   "mimetype": "text/x-python",
   "name": "python",
   "nbconvert_exporter": "python",
   "pygments_lexer": "ipython3",
   "version": "3.13.5"
  }
 },
 "nbformat": 4,
 "nbformat_minor": 5
}
